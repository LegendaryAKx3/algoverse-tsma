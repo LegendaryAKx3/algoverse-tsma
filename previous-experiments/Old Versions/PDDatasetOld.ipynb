{
 "cells": [
  {
   "cell_type": "code",
   "execution_count": 1,
   "id": "50a9830c-b372-4ecd-a94a-dd9b1affb843",
   "metadata": {},
   "outputs": [
    {
     "name": "stdout",
     "output_type": "stream",
     "text": [
      "Requirement already satisfied: transformers in /usr/local/lib/python3.11/dist-packages (4.53.3)\n",
      "Requirement already satisfied: filelock in /usr/local/lib/python3.11/dist-packages (from transformers) (3.16.1)\n",
      "Requirement already satisfied: huggingface-hub<1.0,>=0.30.0 in /usr/local/lib/python3.11/dist-packages (from transformers) (0.33.4)\n",
      "Requirement already satisfied: numpy>=1.17 in /usr/local/lib/python3.11/dist-packages (from transformers) (2.1.2)\n",
      "Requirement already satisfied: packaging>=20.0 in /usr/local/lib/python3.11/dist-packages (from transformers) (24.2)\n",
      "Requirement already satisfied: pyyaml>=5.1 in /usr/local/lib/python3.11/dist-packages (from transformers) (6.0.2)\n",
      "Requirement already satisfied: regex!=2019.12.17 in /usr/local/lib/python3.11/dist-packages (from transformers) (2024.11.6)\n",
      "Requirement already satisfied: requests in /usr/local/lib/python3.11/dist-packages (from transformers) (2.32.3)\n",
      "Requirement already satisfied: tokenizers<0.22,>=0.21 in /usr/local/lib/python3.11/dist-packages (from transformers) (0.21.2)\n",
      "Requirement already satisfied: safetensors>=0.4.3 in /usr/local/lib/python3.11/dist-packages (from transformers) (0.5.3)\n",
      "Requirement already satisfied: tqdm>=4.27 in /usr/local/lib/python3.11/dist-packages (from transformers) (4.67.1)\n",
      "Requirement already satisfied: fsspec>=2023.5.0 in /usr/local/lib/python3.11/dist-packages (from huggingface-hub<1.0,>=0.30.0->transformers) (2024.10.0)\n",
      "Requirement already satisfied: typing-extensions>=3.7.4.3 in /usr/local/lib/python3.11/dist-packages (from huggingface-hub<1.0,>=0.30.0->transformers) (4.12.2)\n",
      "Requirement already satisfied: hf-xet<2.0.0,>=1.1.2 in /usr/local/lib/python3.11/dist-packages (from huggingface-hub<1.0,>=0.30.0->transformers) (1.1.5)\n",
      "Requirement already satisfied: charset-normalizer<4,>=2 in /usr/local/lib/python3.11/dist-packages (from requests->transformers) (3.4.1)\n",
      "Requirement already satisfied: idna<4,>=2.5 in /usr/local/lib/python3.11/dist-packages (from requests->transformers) (3.10)\n",
      "Requirement already satisfied: urllib3<3,>=1.21.1 in /usr/local/lib/python3.11/dist-packages (from requests->transformers) (2.3.0)\n",
      "Requirement already satisfied: certifi>=2017.4.17 in /usr/local/lib/python3.11/dist-packages (from requests->transformers) (2025.1.31)\n",
      "\u001b[33mWARNING: Running pip as the 'root' user can result in broken permissions and conflicting behaviour with the system package manager, possibly rendering your system unusable. It is recommended to use a virtual environment instead: https://pip.pypa.io/warnings/venv. Use the --root-user-action option if you know what you are doing and want to suppress this warning.\u001b[0m\u001b[33m\n",
      "\u001b[0m\n",
      "\u001b[1m[\u001b[0m\u001b[34;49mnotice\u001b[0m\u001b[1;39;49m]\u001b[0m\u001b[39;49m A new release of pip is available: \u001b[0m\u001b[31;49m25.0.1\u001b[0m\u001b[39;49m -> \u001b[0m\u001b[32;49m25.1.1\u001b[0m\n",
      "\u001b[1m[\u001b[0m\u001b[34;49mnotice\u001b[0m\u001b[1;39;49m]\u001b[0m\u001b[39;49m To update, run: \u001b[0m\u001b[32;49mpython -m pip install --upgrade pip\u001b[0m\n",
      "Note: you may need to restart the kernel to use updated packages.\n",
      "Requirement already satisfied: transformers in /usr/local/lib/python3.11/dist-packages (4.53.3)\n",
      "Requirement already satisfied: filelock in /usr/local/lib/python3.11/dist-packages (from transformers) (3.16.1)\n",
      "Requirement already satisfied: huggingface-hub<1.0,>=0.30.0 in /usr/local/lib/python3.11/dist-packages (from transformers) (0.33.4)\n",
      "Requirement already satisfied: numpy>=1.17 in /usr/local/lib/python3.11/dist-packages (from transformers) (2.1.2)\n",
      "Requirement already satisfied: packaging>=20.0 in /usr/local/lib/python3.11/dist-packages (from transformers) (24.2)\n",
      "Requirement already satisfied: pyyaml>=5.1 in /usr/local/lib/python3.11/dist-packages (from transformers) (6.0.2)\n",
      "Requirement already satisfied: regex!=2019.12.17 in /usr/local/lib/python3.11/dist-packages (from transformers) (2024.11.6)\n",
      "Requirement already satisfied: requests in /usr/local/lib/python3.11/dist-packages (from transformers) (2.32.3)\n",
      "Requirement already satisfied: tokenizers<0.22,>=0.21 in /usr/local/lib/python3.11/dist-packages (from transformers) (0.21.2)\n",
      "Requirement already satisfied: safetensors>=0.4.3 in /usr/local/lib/python3.11/dist-packages (from transformers) (0.5.3)\n",
      "Requirement already satisfied: tqdm>=4.27 in /usr/local/lib/python3.11/dist-packages (from transformers) (4.67.1)\n",
      "Requirement already satisfied: fsspec>=2023.5.0 in /usr/local/lib/python3.11/dist-packages (from huggingface-hub<1.0,>=0.30.0->transformers) (2024.10.0)\n",
      "Requirement already satisfied: typing-extensions>=3.7.4.3 in /usr/local/lib/python3.11/dist-packages (from huggingface-hub<1.0,>=0.30.0->transformers) (4.12.2)\n",
      "Requirement already satisfied: hf-xet<2.0.0,>=1.1.2 in /usr/local/lib/python3.11/dist-packages (from huggingface-hub<1.0,>=0.30.0->transformers) (1.1.5)\n",
      "Requirement already satisfied: charset-normalizer<4,>=2 in /usr/local/lib/python3.11/dist-packages (from requests->transformers) (3.4.1)\n",
      "Requirement already satisfied: idna<4,>=2.5 in /usr/local/lib/python3.11/dist-packages (from requests->transformers) (3.10)\n",
      "Requirement already satisfied: urllib3<3,>=1.21.1 in /usr/local/lib/python3.11/dist-packages (from requests->transformers) (2.3.0)\n",
      "Requirement already satisfied: certifi>=2017.4.17 in /usr/local/lib/python3.11/dist-packages (from requests->transformers) (2025.1.31)\n",
      "\u001b[33mWARNING: Running pip as the 'root' user can result in broken permissions and conflicting behaviour with the system package manager, possibly rendering your system unusable. It is recommended to use a virtual environment instead: https://pip.pypa.io/warnings/venv. Use the --root-user-action option if you know what you are doing and want to suppress this warning.\u001b[0m\u001b[33m\n",
      "\u001b[0m\n",
      "\u001b[1m[\u001b[0m\u001b[34;49mnotice\u001b[0m\u001b[1;39;49m]\u001b[0m\u001b[39;49m A new release of pip is available: \u001b[0m\u001b[31;49m25.0.1\u001b[0m\u001b[39;49m -> \u001b[0m\u001b[32;49m25.1.1\u001b[0m\n",
      "\u001b[1m[\u001b[0m\u001b[34;49mnotice\u001b[0m\u001b[1;39;49m]\u001b[0m\u001b[39;49m To update, run: \u001b[0m\u001b[32;49mpython -m pip install --upgrade pip\u001b[0m\n",
      "Note: you may need to restart the kernel to use updated packages.\n",
      "Requirement already satisfied: torch in /usr/local/lib/python3.11/dist-packages (2.8.0.dev20250319+cu128)\n",
      "Requirement already satisfied: filelock in /usr/local/lib/python3.11/dist-packages (from torch) (3.16.1)\n",
      "Requirement already satisfied: typing-extensions>=4.10.0 in /usr/local/lib/python3.11/dist-packages (from torch) (4.12.2)\n",
      "Requirement already satisfied: sympy>=1.13.3 in /usr/local/lib/python3.11/dist-packages (from torch) (1.13.3)\n",
      "Requirement already satisfied: networkx in /usr/local/lib/python3.11/dist-packages (from torch) (3.4.2)\n",
      "Requirement already satisfied: jinja2 in /usr/local/lib/python3.11/dist-packages (from torch) (3.1.4)\n",
      "Requirement already satisfied: fsspec in /usr/local/lib/python3.11/dist-packages (from torch) (2024.10.0)\n",
      "Requirement already satisfied: nvidia-cuda-nvrtc-cu12==12.8.61 in /usr/local/lib/python3.11/dist-packages (from torch) (12.8.61)\n",
      "Requirement already satisfied: nvidia-cuda-runtime-cu12==12.8.57 in /usr/local/lib/python3.11/dist-packages (from torch) (12.8.57)\n",
      "Requirement already satisfied: nvidia-cuda-cupti-cu12==12.8.57 in /usr/local/lib/python3.11/dist-packages (from torch) (12.8.57)\n",
      "Requirement already satisfied: nvidia-cudnn-cu12==9.8.0.87 in /usr/local/lib/python3.11/dist-packages (from torch) (9.8.0.87)\n",
      "Requirement already satisfied: nvidia-cublas-cu12==12.8.3.14 in /usr/local/lib/python3.11/dist-packages (from torch) (12.8.3.14)\n",
      "Requirement already satisfied: nvidia-cufft-cu12==11.3.3.41 in /usr/local/lib/python3.11/dist-packages (from torch) (11.3.3.41)\n",
      "Requirement already satisfied: nvidia-curand-cu12==10.3.9.55 in /usr/local/lib/python3.11/dist-packages (from torch) (10.3.9.55)\n",
      "Requirement already satisfied: nvidia-cusolver-cu12==11.7.2.55 in /usr/local/lib/python3.11/dist-packages (from torch) (11.7.2.55)\n",
      "Requirement already satisfied: nvidia-cusparse-cu12==12.5.7.53 in /usr/local/lib/python3.11/dist-packages (from torch) (12.5.7.53)\n",
      "Requirement already satisfied: nvidia-cusparselt-cu12==0.6.3 in /usr/local/lib/python3.11/dist-packages (from torch) (0.6.3)\n",
      "Requirement already satisfied: nvidia-nccl-cu12==2.25.1 in /usr/local/lib/python3.11/dist-packages (from torch) (2.25.1)\n",
      "Requirement already satisfied: nvidia-nvtx-cu12==12.8.55 in /usr/local/lib/python3.11/dist-packages (from torch) (12.8.55)\n",
      "Requirement already satisfied: nvidia-nvjitlink-cu12==12.8.61 in /usr/local/lib/python3.11/dist-packages (from torch) (12.8.61)\n",
      "Requirement already satisfied: nvidia-cufile-cu12==1.13.0.11 in /usr/local/lib/python3.11/dist-packages (from torch) (1.13.0.11)\n",
      "Requirement already satisfied: pytorch-triton==3.3.0+git96316ce5 in /usr/local/lib/python3.11/dist-packages (from torch) (3.3.0+git96316ce5)\n",
      "Requirement already satisfied: setuptools>=40.8.0 in /usr/local/lib/python3.11/dist-packages (from pytorch-triton==3.3.0+git96316ce5->torch) (77.0.1)\n",
      "Requirement already satisfied: mpmath<1.4,>=1.1.0 in /usr/local/lib/python3.11/dist-packages (from sympy>=1.13.3->torch) (1.3.0)\n",
      "Requirement already satisfied: MarkupSafe>=2.0 in /usr/local/lib/python3.11/dist-packages (from jinja2->torch) (2.1.5)\n",
      "\u001b[33mWARNING: Running pip as the 'root' user can result in broken permissions and conflicting behaviour with the system package manager, possibly rendering your system unusable. It is recommended to use a virtual environment instead: https://pip.pypa.io/warnings/venv. Use the --root-user-action option if you know what you are doing and want to suppress this warning.\u001b[0m\u001b[33m\n",
      "\u001b[0m\n",
      "\u001b[1m[\u001b[0m\u001b[34;49mnotice\u001b[0m\u001b[1;39;49m]\u001b[0m\u001b[39;49m A new release of pip is available: \u001b[0m\u001b[31;49m25.0.1\u001b[0m\u001b[39;49m -> \u001b[0m\u001b[32;49m25.1.1\u001b[0m\n",
      "\u001b[1m[\u001b[0m\u001b[34;49mnotice\u001b[0m\u001b[1;39;49m]\u001b[0m\u001b[39;49m To update, run: \u001b[0m\u001b[32;49mpython -m pip install --upgrade pip\u001b[0m\n",
      "Note: you may need to restart the kernel to use updated packages.\n"
     ]
    }
   ],
   "source": [
    "%pip install transformers\n",
    "%pip install --upgrade transformers\n",
    "%pip install torch"
   ]
  },
  {
   "cell_type": "code",
   "execution_count": 2,
   "id": "554bfa32-29a0-4eca-9c11-dcf0e716d30a",
   "metadata": {},
   "outputs": [
    {
     "name": "stdout",
     "output_type": "stream",
     "text": [
      "Requirement already satisfied: accelerate in /usr/local/lib/python3.11/dist-packages (1.9.0)\n",
      "Requirement already satisfied: numpy<3.0.0,>=1.17 in /usr/local/lib/python3.11/dist-packages (from accelerate) (2.1.2)\n",
      "Requirement already satisfied: packaging>=20.0 in /usr/local/lib/python3.11/dist-packages (from accelerate) (24.2)\n",
      "Requirement already satisfied: psutil in /usr/local/lib/python3.11/dist-packages (from accelerate) (7.0.0)\n",
      "Requirement already satisfied: pyyaml in /usr/local/lib/python3.11/dist-packages (from accelerate) (6.0.2)\n",
      "Requirement already satisfied: torch>=2.0.0 in /usr/local/lib/python3.11/dist-packages (from accelerate) (2.8.0.dev20250319+cu128)\n",
      "Requirement already satisfied: huggingface_hub>=0.21.0 in /usr/local/lib/python3.11/dist-packages (from accelerate) (0.33.4)\n",
      "Requirement already satisfied: safetensors>=0.4.3 in /usr/local/lib/python3.11/dist-packages (from accelerate) (0.5.3)\n",
      "Requirement already satisfied: filelock in /usr/local/lib/python3.11/dist-packages (from huggingface_hub>=0.21.0->accelerate) (3.16.1)\n",
      "Requirement already satisfied: fsspec>=2023.5.0 in /usr/local/lib/python3.11/dist-packages (from huggingface_hub>=0.21.0->accelerate) (2024.10.0)\n",
      "Requirement already satisfied: requests in /usr/local/lib/python3.11/dist-packages (from huggingface_hub>=0.21.0->accelerate) (2.32.3)\n",
      "Requirement already satisfied: tqdm>=4.42.1 in /usr/local/lib/python3.11/dist-packages (from huggingface_hub>=0.21.0->accelerate) (4.67.1)\n",
      "Requirement already satisfied: typing-extensions>=3.7.4.3 in /usr/local/lib/python3.11/dist-packages (from huggingface_hub>=0.21.0->accelerate) (4.12.2)\n",
      "Requirement already satisfied: hf-xet<2.0.0,>=1.1.2 in /usr/local/lib/python3.11/dist-packages (from huggingface_hub>=0.21.0->accelerate) (1.1.5)\n",
      "Requirement already satisfied: sympy>=1.13.3 in /usr/local/lib/python3.11/dist-packages (from torch>=2.0.0->accelerate) (1.13.3)\n",
      "Requirement already satisfied: networkx in /usr/local/lib/python3.11/dist-packages (from torch>=2.0.0->accelerate) (3.4.2)\n",
      "Requirement already satisfied: jinja2 in /usr/local/lib/python3.11/dist-packages (from torch>=2.0.0->accelerate) (3.1.4)\n",
      "Requirement already satisfied: nvidia-cuda-nvrtc-cu12==12.8.61 in /usr/local/lib/python3.11/dist-packages (from torch>=2.0.0->accelerate) (12.8.61)\n",
      "Requirement already satisfied: nvidia-cuda-runtime-cu12==12.8.57 in /usr/local/lib/python3.11/dist-packages (from torch>=2.0.0->accelerate) (12.8.57)\n",
      "Requirement already satisfied: nvidia-cuda-cupti-cu12==12.8.57 in /usr/local/lib/python3.11/dist-packages (from torch>=2.0.0->accelerate) (12.8.57)\n",
      "Requirement already satisfied: nvidia-cudnn-cu12==9.8.0.87 in /usr/local/lib/python3.11/dist-packages (from torch>=2.0.0->accelerate) (9.8.0.87)\n",
      "Requirement already satisfied: nvidia-cublas-cu12==12.8.3.14 in /usr/local/lib/python3.11/dist-packages (from torch>=2.0.0->accelerate) (12.8.3.14)\n",
      "Requirement already satisfied: nvidia-cufft-cu12==11.3.3.41 in /usr/local/lib/python3.11/dist-packages (from torch>=2.0.0->accelerate) (11.3.3.41)\n",
      "Requirement already satisfied: nvidia-curand-cu12==10.3.9.55 in /usr/local/lib/python3.11/dist-packages (from torch>=2.0.0->accelerate) (10.3.9.55)\n",
      "Requirement already satisfied: nvidia-cusolver-cu12==11.7.2.55 in /usr/local/lib/python3.11/dist-packages (from torch>=2.0.0->accelerate) (11.7.2.55)\n",
      "Requirement already satisfied: nvidia-cusparse-cu12==12.5.7.53 in /usr/local/lib/python3.11/dist-packages (from torch>=2.0.0->accelerate) (12.5.7.53)\n",
      "Requirement already satisfied: nvidia-cusparselt-cu12==0.6.3 in /usr/local/lib/python3.11/dist-packages (from torch>=2.0.0->accelerate) (0.6.3)\n",
      "Requirement already satisfied: nvidia-nccl-cu12==2.25.1 in /usr/local/lib/python3.11/dist-packages (from torch>=2.0.0->accelerate) (2.25.1)\n",
      "Requirement already satisfied: nvidia-nvtx-cu12==12.8.55 in /usr/local/lib/python3.11/dist-packages (from torch>=2.0.0->accelerate) (12.8.55)\n",
      "Requirement already satisfied: nvidia-nvjitlink-cu12==12.8.61 in /usr/local/lib/python3.11/dist-packages (from torch>=2.0.0->accelerate) (12.8.61)\n",
      "Requirement already satisfied: nvidia-cufile-cu12==1.13.0.11 in /usr/local/lib/python3.11/dist-packages (from torch>=2.0.0->accelerate) (1.13.0.11)\n",
      "Requirement already satisfied: pytorch-triton==3.3.0+git96316ce5 in /usr/local/lib/python3.11/dist-packages (from torch>=2.0.0->accelerate) (3.3.0+git96316ce5)\n",
      "Requirement already satisfied: setuptools>=40.8.0 in /usr/local/lib/python3.11/dist-packages (from pytorch-triton==3.3.0+git96316ce5->torch>=2.0.0->accelerate) (77.0.1)\n",
      "Requirement already satisfied: mpmath<1.4,>=1.1.0 in /usr/local/lib/python3.11/dist-packages (from sympy>=1.13.3->torch>=2.0.0->accelerate) (1.3.0)\n",
      "Requirement already satisfied: MarkupSafe>=2.0 in /usr/local/lib/python3.11/dist-packages (from jinja2->torch>=2.0.0->accelerate) (2.1.5)\n",
      "Requirement already satisfied: charset-normalizer<4,>=2 in /usr/local/lib/python3.11/dist-packages (from requests->huggingface_hub>=0.21.0->accelerate) (3.4.1)\n",
      "Requirement already satisfied: idna<4,>=2.5 in /usr/local/lib/python3.11/dist-packages (from requests->huggingface_hub>=0.21.0->accelerate) (3.10)\n",
      "Requirement already satisfied: urllib3<3,>=1.21.1 in /usr/local/lib/python3.11/dist-packages (from requests->huggingface_hub>=0.21.0->accelerate) (2.3.0)\n",
      "Requirement already satisfied: certifi>=2017.4.17 in /usr/local/lib/python3.11/dist-packages (from requests->huggingface_hub>=0.21.0->accelerate) (2025.1.31)\n",
      "\u001b[33mWARNING: Running pip as the 'root' user can result in broken permissions and conflicting behaviour with the system package manager, possibly rendering your system unusable. It is recommended to use a virtual environment instead: https://pip.pypa.io/warnings/venv. Use the --root-user-action option if you know what you are doing and want to suppress this warning.\u001b[0m\u001b[33m\n",
      "\u001b[0m\n",
      "\u001b[1m[\u001b[0m\u001b[34;49mnotice\u001b[0m\u001b[1;39;49m]\u001b[0m\u001b[39;49m A new release of pip is available: \u001b[0m\u001b[31;49m25.0.1\u001b[0m\u001b[39;49m -> \u001b[0m\u001b[32;49m25.1.1\u001b[0m\n",
      "\u001b[1m[\u001b[0m\u001b[34;49mnotice\u001b[0m\u001b[1;39;49m]\u001b[0m\u001b[39;49m To update, run: \u001b[0m\u001b[32;49mpython -m pip install --upgrade pip\u001b[0m\n",
      "Note: you may need to restart the kernel to use updated packages.\n"
     ]
    }
   ],
   "source": [
    "pip install accelerate\n"
   ]
  },
  {
   "cell_type": "code",
   "execution_count": 16,
   "id": "eb52e5da-c56d-4dda-bf2b-94d43536c660",
   "metadata": {},
   "outputs": [
    {
     "name": "stderr",
     "output_type": "stream",
     "text": [
      "huggingface/tokenizers: The current process just got forked, after parallelism has already been used. Disabling parallelism to avoid deadlocks...\n",
      "To disable this warning, you can either:\n",
      "\t- Avoid using `tokenizers` before the fork if possible\n",
      "\t- Explicitly set the environment variable TOKENIZERS_PARALLELISM=(true | false)\n"
     ]
    },
    {
     "name": "stdout",
     "output_type": "stream",
     "text": [
      "Collecting pandas\n",
      "  Downloading pandas-2.3.1-cp311-cp311-manylinux_2_17_x86_64.manylinux2014_x86_64.whl.metadata (91 kB)\n",
      "Requirement already satisfied: numpy>=1.23.2 in /usr/local/lib/python3.11/dist-packages (from pandas) (2.1.2)\n",
      "Requirement already satisfied: python-dateutil>=2.8.2 in /usr/local/lib/python3.11/dist-packages (from pandas) (2.9.0.post0)\n",
      "Collecting pytz>=2020.1 (from pandas)\n",
      "  Downloading pytz-2025.2-py2.py3-none-any.whl.metadata (22 kB)\n",
      "Collecting tzdata>=2022.7 (from pandas)\n",
      "  Downloading tzdata-2025.2-py2.py3-none-any.whl.metadata (1.4 kB)\n",
      "Requirement already satisfied: six>=1.5 in /usr/lib/python3/dist-packages (from python-dateutil>=2.8.2->pandas) (1.16.0)\n",
      "Downloading pandas-2.3.1-cp311-cp311-manylinux_2_17_x86_64.manylinux2014_x86_64.whl (12.4 MB)\n",
      "\u001b[2K   \u001b[90m━━━━━━━━━━━━━━━━━━━━━━━━━━━━━━━━━━━━━━━━\u001b[0m \u001b[32m12.4/12.4 MB\u001b[0m \u001b[31m53.7 MB/s\u001b[0m eta \u001b[36m0:00:00\u001b[0m \u001b[36m0:00:01\u001b[0m\n",
      "\u001b[?25hDownloading pytz-2025.2-py2.py3-none-any.whl (509 kB)\n",
      "Downloading tzdata-2025.2-py2.py3-none-any.whl (347 kB)\n",
      "Installing collected packages: pytz, tzdata, pandas\n",
      "Successfully installed pandas-2.3.1 pytz-2025.2 tzdata-2025.2\n",
      "\u001b[33mWARNING: Running pip as the 'root' user can result in broken permissions and conflicting behaviour with the system package manager, possibly rendering your system unusable. It is recommended to use a virtual environment instead: https://pip.pypa.io/warnings/venv. Use the --root-user-action option if you know what you are doing and want to suppress this warning.\u001b[0m\u001b[33m\n",
      "\u001b[0m\n",
      "\u001b[1m[\u001b[0m\u001b[34;49mnotice\u001b[0m\u001b[1;39;49m]\u001b[0m\u001b[39;49m A new release of pip is available: \u001b[0m\u001b[31;49m25.0.1\u001b[0m\u001b[39;49m -> \u001b[0m\u001b[32;49m25.1.1\u001b[0m\n",
      "\u001b[1m[\u001b[0m\u001b[34;49mnotice\u001b[0m\u001b[1;39;49m]\u001b[0m\u001b[39;49m To update, run: \u001b[0m\u001b[32;49mpython -m pip install --upgrade pip\u001b[0m\n",
      "Note: you may need to restart the kernel to use updated packages.\n"
     ]
    }
   ],
   "source": [
    "pip install pandas\n"
   ]
  },
  {
   "cell_type": "code",
   "execution_count": 3,
   "id": "cccf6d7f-b3b8-45d8-a247-88d0f8b1cd4a",
   "metadata": {},
   "outputs": [
    {
     "data": {
      "application/vnd.jupyter.widget-view+json": {
       "model_id": "9f83fdcee86d46f0b580cbd87a33039e",
       "version_major": 2,
       "version_minor": 0
      },
      "text/plain": [
       "model.safetensors.index.json: 0.00B [00:00, ?B/s]"
      ]
     },
     "metadata": {},
     "output_type": "display_data"
    },
    {
     "data": {
      "application/vnd.jupyter.widget-view+json": {
       "model_id": "b11de4742eed462fa0beb38e3d0f407d",
       "version_major": 2,
       "version_minor": 0
      },
      "text/plain": [
       "Fetching 2 files:   0%|          | 0/2 [00:00<?, ?it/s]"
      ]
     },
     "metadata": {},
     "output_type": "display_data"
    },
    {
     "data": {
      "application/vnd.jupyter.widget-view+json": {
       "model_id": "cb0ba5758fda41d0ba2469c121910e9b",
       "version_major": 2,
       "version_minor": 0
      },
      "text/plain": [
       "model-00001-of-00002.safetensors:   0%|          | 0.00/3.44G [00:00<?, ?B/s]"
      ]
     },
     "metadata": {},
     "output_type": "display_data"
    },
    {
     "data": {
      "application/vnd.jupyter.widget-view+json": {
       "model_id": "24a4f89c223d4da9b0889733b9dea845",
       "version_major": 2,
       "version_minor": 0
      },
      "text/plain": [
       "model-00002-of-00002.safetensors:   0%|          | 0.00/622M [00:00<?, ?B/s]"
      ]
     },
     "metadata": {},
     "output_type": "display_data"
    },
    {
     "data": {
      "application/vnd.jupyter.widget-view+json": {
       "model_id": "79b2ea6f41354a7dacfb4edc3830a46f",
       "version_major": 2,
       "version_minor": 0
      },
      "text/plain": [
       "Loading checkpoint shards:   0%|          | 0/2 [00:00<?, ?it/s]"
      ]
     },
     "metadata": {},
     "output_type": "display_data"
    },
    {
     "data": {
      "application/vnd.jupyter.widget-view+json": {
       "model_id": "854fc5446ace48cf9c473ee2898f00c0",
       "version_major": 2,
       "version_minor": 0
      },
      "text/plain": [
       "generation_config.json:   0%|          | 0.00/239 [00:00<?, ?B/s]"
      ]
     },
     "metadata": {},
     "output_type": "display_data"
    }
   ],
   "source": [
    "from transformers import AutoTokenizer, AutoModelForCausalLM\n",
    "import torch\n",
    "import re\n",
    "\n",
    "device = \"cuda\" if torch.cuda.is_available() else \"cpu\"\n",
    "torch.set_default_device(device)\n",
    "\n",
    "tokenizer = AutoTokenizer.from_pretrained(\"Qwen/Qwen3-1.7B\")\n",
    "model = AutoModelForCausalLM.from_pretrained(\"Qwen/Qwen3-1.7B\")"
   ]
  },
  {
   "cell_type": "code",
   "execution_count": 68,
   "id": "73b28600-0612-4de8-81dc-fda5984dc99a",
   "metadata": {},
   "outputs": [],
   "source": [
    "base_prompt = \"\"\"\n",
    "You are playing an iterated Prisoner's Dilemma game.\n",
    "\n",
    "Each round, choose between:\n",
    "- 'C' (Cooperate)\n",
    "- 'D' (Defect)\n",
    "\n",
    "Objective:\n",
    "Maximize your long-term reward over multiple rounds against Player A.\n",
    "\n",
    "Payoff Matrix:\n",
    "- ('C', 'C') → both players receive 6 points\n",
    "- ('C', 'D') → Player A gets 0, Player B gets 10\n",
    "- ('D', 'C') → Player A gets 10, Player B gets 0\n",
    "- ('D', 'D') → both players receive 1 point\n",
    "\n",
    "Strategy Guidance:\n",
    "- If Player A has cooperated more often than defected, consider defecting to exploit that behavior.\n",
    "- If Player A’s behavior is mixed or unpredictable, analyze the past rounds and select the action you believe offers the best future reward.\n",
    "- Rely solely on the game rules and history provided — be logical, concise, and focused.\n",
    "\n",
    "Game History from Your Perspective:\n",
    "\n",
    "{formatted_history}\n",
    "\n",
    "Respond clearly and crisply with your next action inside square brackets: [C] or [D]\n",
    "\"\"\"\n"
   ]
  },
  {
   "cell_type": "code",
   "execution_count": 5,
   "id": "73e74cdf-1df5-450c-9e7e-bb5efdf6ad80",
   "metadata": {},
   "outputs": [],
   "source": [
    "#Qwen-3-1.7B\n",
    "def qwenGen(prompt):\n",
    "  inputs = tokenizer(prompt, return_tensors=\"pt\")\n",
    "  inputs = inputs.to(device)\n",
    "\n",
    "  outputs = model.generate(**inputs, max_new_tokens=50, do_sample=True, repetition_penalty=1.2, temperature=0.7, top_p=0.9)\n",
    "  output = tokenizer.batch_decode(outputs, skip_special_tokens=True)[0]\n",
    "  return output\n"
   ]
  },
  {
   "cell_type": "code",
   "execution_count": 83,
   "id": "0c8e1e13-04da-4fbc-83eb-6413f3e1a6dd",
   "metadata": {},
   "outputs": [],
   "source": [
    "import pandas as pd\n",
    "columns = [\"Number of Rounds\", \"History\", \"Co-op Payoff\", \"Defect Positive Payoff\", \"Defect Negative Payoff\"]\n",
    "dataset = pd.DataFrame(columns=columns)\n",
    "#paymat = [[num_rounds], [coop_payoff], [defect_pos_payoff], [defect_neg_payoff]] \n",
    "def data_update(paymat, history, model_action):\n",
    "    global dataset\n",
    "    new_row = {\n",
    "        \"Number of Rounds\": paymat[0],\n",
    "        \"History\": history,\n",
    "        \"Co-op Payoff\": paymat[1][0],\n",
    "        \"Defect Positive Payoff\": paymat[2][1],\n",
    "        \"Defect Negative Payoff\": paymat[3][0],\n",
    "        \"Model Action\": model_action\n",
    "    }\n",
    "    dataset = pd.concat([dataset, pd.DataFrame([new_row])], ignore_index=True)\n",
    "def data_reset():\n",
    "    global dataset\n",
    "    columns = [\"Number of Rounds\", \"History\", \"Co-op Payoff\", \"Defect Positive Payoff\", \"Defect Negative Payoff\"]\n",
    "    dataset = pd.DataFrame(columns=columns)"
   ]
  },
  {
   "cell_type": "code",
   "execution_count": 96,
   "id": "dff1a42e-79be-443e-8a90-9d5a96dfa27d",
   "metadata": {},
   "outputs": [],
   "source": [
    "class PrisonersDilemma:\n",
    "    def __init__(self, coop, pos_d, neg_d, num_rounds=1):\n",
    "        self.num_rounds = num_rounds\n",
    "        self.history = []  #of the form (action_A, action_B, A_payoff, B_payoff).\n",
    "        self.payoff_matrix = {\n",
    "            ('C', 'C'): (coop, coop),\n",
    "            ('C', 'D'): (0, pos_d),\n",
    "            ('D', 'C'): (pos_d, 0),\n",
    "            ('D', 'D'): (neg_d, neg_d)\n",
    "        }\n",
    "        self.paymat = [self.num_rounds, self.payoff_matrix[('C', 'C')], self.payoff_matrix[('C', 'D')], self.payoff_matrix[('D', 'D')]]\n",
    "        self.promptA = base_prompt.format(num_rounds=self.num_rounds, formatted_history=format_history_with_payoffs(self.history, player=\"A\"))\n",
    "        self.promptB = base_prompt.format(num_rounds=self.num_rounds, formatted_history=format_history_with_payoffs(self.history, player=\"B\"))\n",
    "\n",
    "\n",
    "    def step(self, action_A, action_B):\n",
    "        global dataset\n",
    "        payoff_A, payoff_B = self.payoff_matrix[(action_A, action_B)]\n",
    "        data_update(self.paymat, self.history.copy(), action_A)\n",
    "        self.history.append((action_A, action_B, payoff_A, payoff_B))\n",
    "        self.promptA = base_prompt.format(num_rounds=self.num_rounds, formatted_history=format_history_with_payoffs(self.history, player=\"A\"))\n",
    "        self.promptB = base_prompt.format(num_rounds=self.num_rounds, formatted_history=format_history_with_payoffs(self.history, player=\"B\"))\n",
    "        return payoff_A, payoff_B\n",
    "\n",
    "    def reset(self):\n",
    "        self.history = []\n",
    "\n",
    "    def genPrompt(self, p_name):\n",
    "        return self.promptA if p_name == \"A\" else self.promptB if p_name == \"B\" else None"
   ]
  },
  {
   "cell_type": "code",
   "execution_count": 93,
   "id": "90c996fe-4204-4cd8-b733-e19db089b382",
   "metadata": {},
   "outputs": [],
   "source": [
    "import re\n",
    "import random\n",
    "class LLMModel:\n",
    "    def __init__(self, name, strategy_fn, use_LLM = True):\n",
    "        self.name = name\n",
    "        self.strategy_fn = strategy_fn\n",
    "        self.use_LLM = use_LLM\n",
    "\n",
    "    def act(self, prompt):\n",
    "        if self.use_LLM:\n",
    "            output = self.strategy_fn(prompt)\n",
    "            match = re.findall(r\"\\[([A-Z])\\]\", output)\n",
    "            return match[-1]\n",
    "        else:\n",
    "            a = random.choice(['C', 'D'])\n",
    "            return a"
   ]
  },
  {
   "cell_type": "code",
   "execution_count": 9,
   "id": "3c7198fd-5ac1-445a-974a-55ad3d1bddc1",
   "metadata": {},
   "outputs": [],
   "source": [
    "def format_history_with_payoffs(history, player):\n",
    "    lines = []\n",
    "    for i, (a, b, pa, pb) in enumerate(history, 1):\n",
    "        if player == \"A\":\n",
    "            lines.append(f\"Round {i}: You chose {a}, Opponent chose {b} → You got {pa}, Opponent got {pb} \\nNew Round Starting... update your responses based on this information to try to get more reward!\")\n",
    "        else:\n",
    "            lines.append(f\"Round {i}: You chose {b}, Opponent chose {a} → You got {pb}, Opponent got {pa} \\nNew Round Starting... update your responses based on this information to try to get more reward!\")\n",
    "    return \"\\n\".join(lines) if lines else \"\""
   ]
  },
  {
   "cell_type": "code",
   "execution_count": 10,
   "id": "53f36904-a33c-4479-bc03-cc1d8420bce0",
   "metadata": {},
   "outputs": [],
   "source": [
    "def run_game(player_A, player_B, env):\n",
    "    scores = [0, 0]\n",
    "    for round_num in range(env.num_rounds):\n",
    "        aPrompt = env.genPrompt(\"A\")\n",
    "        bPrompt = env.genPrompt(\"B\")\n",
    "        # print(aPrompt)\n",
    "        # print(bPrompt)\n",
    "        action_A = player_A.act(aPrompt)\n",
    "        action_B = player_B.act(bPrompt)\n",
    "        reward_A, reward_B = env.step(action_A, action_B)\n",
    "        scores[0] += reward_A\n",
    "        scores[1] += reward_B\n",
    "        print(f\"Round {round_num + 1}: A={action_A}, B={action_B} → A:{reward_A}, B:{reward_B}\")\n",
    "    print(f\"Final Scores → A: {scores[0]}, B: {scores[1]}\")"
   ]
  },
  {
   "cell_type": "code",
   "execution_count": null,
   "id": "766e0720-ad0a-41fc-aee9-dd03bfe16eb9",
   "metadata": {},
   "outputs": [
    {
     "name": "stdout",
     "output_type": "stream",
     "text": [
      "Round 1: A=D, B=C → A:10, B:0\n",
      "Round 2: A=D, B=D → A:1, B:1\n",
      "Round 3: A=D, B=D → A:1, B:1\n",
      "Round 4: A=D, B=C → A:10, B:0\n",
      "Round 5: A=D, B=D → A:1, B:1\n",
      "Round 6: A=D, B=C → A:10, B:0\n",
      "Round 7: A=D, B=D → A:1, B:1\n",
      "Final Scores → A: 34, B: 4\n",
      "Round 1: A=D, B=D → A:1, B:1\n",
      "Round 2: A=D, B=D → A:1, B:1\n",
      "Round 3: A=D, B=D → A:1, B:1\n",
      "Round 4: A=D, B=D → A:1, B:1\n",
      "Round 5: A=D, B=D → A:1, B:1\n",
      "Round 6: A=D, B=C → A:10, B:0\n",
      "Round 7: A=D, B=D → A:1, B:1\n",
      "Final Scores → A: 16, B: 6\n",
      "Round 1: A=D, B=C → A:10, B:0\n",
      "Round 2: A=D, B=C → A:10, B:0\n",
      "Round 3: A=D, B=D → A:1, B:1\n",
      "Round 4: A=D, B=D → A:1, B:1\n",
      "Round 5: A=D, B=D → A:1, B:1\n",
      "Round 6: A=D, B=C → A:10, B:0\n",
      "Round 7: A=D, B=C → A:10, B:0\n",
      "Final Scores → A: 43, B: 3\n",
      "Round 1: A=D, B=D → A:0, B:0\n",
      "Round 2: A=D, B=D → A:0, B:0\n",
      "Round 3: A=D, B=D → A:0, B:0\n",
      "Round 4: A=D, B=D → A:0, B:0\n",
      "Round 5: A=D, B=C → A:5, B:0\n",
      "Round 6: A=D, B=D → A:0, B:0\n",
      "Round 7: A=D, B=D → A:0, B:0\n",
      "Final Scores → A: 5, B: 0\n",
      "Round 1: A=D, B=C → A:5, B:0\n"
     ]
    }
   ],
   "source": [
    "data_reset()\n",
    "\n",
    "#Co-op: 6; Pos_D: 10; Neg_D: 1.\n",
    "#random model\n",
    "c = 6\n",
    "pos_d = 10\n",
    "neg_d = 1\n",
    "env = PrisonersDilemma(c, pos_d, neg_d, num_rounds=7)\n",
    "playerA = LLMModel(\"QwenA\", qwenGen)\n",
    "#playerB = LLMModel(\"QwenB\", qwenGen)\n",
    "playerRand = LLMModel(\"Random\", random.choice(['C', 'D']), use_LLM = False) \n",
    "#run_game(playerA, playerB, env)\n",
    "run_game(playerA, playerRand, env)\n",
    "\n",
    "#always Cooperate\n",
    "env = PrisonersDilemma(c, pos_d, neg_d, num_rounds=7)\n",
    "playerA = LLMModel(\"QwenA\", qwenGen)\n",
    "#playerB = LLMModel(\"QwenB\", qwenGen)\n",
    "playerRand = LLMModel(\"Random\", 'C', use_LLM = False) \n",
    "#run_game(playerA, playerB, env)\n",
    "run_game(playerA, playerRand, env)\n",
    "\n",
    "#always Defect\n",
    "env = PrisonersDilemma(c, pos_d, neg_d, num_rounds=7)\n",
    "playerA = LLMModel(\"QwenA\", qwenGen)\n",
    "#playerB = LLMModel(\"QwenB\", qwenGen)\n",
    "playerRand = LLMModel(\"Random\", 'D', use_LLM = False) \n",
    "#run_game(playerA, playerB, env)\n",
    "run_game(playerA, playerRand, env)\n",
    "\n",
    "#Co-op: 20; Pos_D: 5; Neg_D: 0.\n",
    "c = 20\n",
    "pos_d = 5\n",
    "neg_d = 0\n",
    "#random model\n",
    "env = PrisonersDilemma(c, pos_d, neg_d, num_rounds=7)\n",
    "playerA = LLMModel(\"QwenA\", qwenGen)\n",
    "#playerB = LLMModel(\"QwenB\", qwenGen)\n",
    "playerRand = LLMModel(\"Random\", random.choice(['C', 'D']), use_LLM = False) \n",
    "#run_game(playerA, playerB, env)\n",
    "run_game(playerA, playerRand, env)\n",
    "\n",
    "#always Cooperate\n",
    "env = PrisonersDilemma(c, pos_d, neg_d, num_rounds=7)\n",
    "playerA = LLMModel(\"QwenA\", qwenGen)\n",
    "#playerB = LLMModel(\"QwenB\", qwenGen)\n",
    "playerRand = LLMModel(\"Random\", 'C', use_LLM = False) \n",
    "#run_game(playerA, playerB, env)\n",
    "run_game(playerA, playerRand, env)\n",
    "\n",
    "#always Defect\n",
    "env = PrisonersDilemma(c, pos_d, neg_d, num_rounds=7)\n",
    "playerA = LLMModel(\"QwenA\", qwenGen)\n",
    "#playerB = LLMModel(\"QwenB\", qwenGen)\n",
    "playerRand = LLMModel(\"Random\", 'D', use_LLM = False) \n",
    "#run_game(playerA, playerB, env)\n",
    "run_game(playerA, playerRand, env)\n",
    "\n",
    "#Co-op: 10; Pos_D: 11; Neg_D: 2.\n",
    "c = 10\n",
    "pos_d = 11\n",
    "neg_d = 2\n",
    "#random model\n",
    "env = PrisonersDilemma(c, pos_d, neg_d, num_rounds=7)\n",
    "playerA = LLMModel(\"QwenA\", qwenGen)\n",
    "#playerB = LLMModel(\"QwenB\", qwenGen)\n",
    "playerRand = LLMModel(\"Random\", random.choice(['C', 'D']), use_LLM = False) \n",
    "#run_game(playerA, playerB, env)\n",
    "run_game(playerA, playerRand, env)\n",
    "\n",
    "#always Cooperate\n",
    "env = PrisonersDilemma(c, pos_d, neg_d, num_rounds=7)\n",
    "playerA = LLMModel(\"QwenA\", qwenGen)\n",
    "#playerB = LLMModel(\"QwenB\", qwenGen)\n",
    "playerRand = LLMModel(\"Random\", 'C', use_LLM = False) \n",
    "#run_game(playerA, playerB, env)\n",
    "run_game(playerA, playerRand, env)\n",
    "\n",
    "#always Defect\n",
    "env = PrisonersDilemma(c, pos_d, neg_d, num_rounds=7)\n",
    "playerA = LLMModel(\"QwenA\", qwenGen)\n",
    "#playerB = LLMModel(\"QwenB\", qwenGen)\n",
    "playerRand = LLMModel(\"Random\", 'D', use_LLM = False) \n",
    "#run_game(playerA, playerB, env)\n",
    "run_game(playerA, playerRand, env)\n"
   ]
  },
  {
   "cell_type": "code",
   "execution_count": 86,
   "id": "ca94c34e-2d4e-4a55-a736-3eafd6ca5a32",
   "metadata": {},
   "outputs": [
    {
     "name": "stdout",
     "output_type": "stream",
     "text": [
      "Number of Rounds                        History Co-op Payoff Defect Positive Payoff Defect Negative Payoff Model Action\n",
      "               3                             []            6                     10                      1            D\n",
      "               3                [(D, C, 10, 0)]            6                     10                      1            D\n",
      "               3 [(D, C, 10, 0), (D, C, 10, 0)]            6                     10                      1            D\n"
     ]
    }
   ],
   "source": [
    "print(dataset.to_string(index=False))"
   ]
  },
  {
   "cell_type": "code",
   "execution_count": 87,
   "id": "7827deac-5f4b-420f-b5df-a994c86ba70b",
   "metadata": {},
   "outputs": [],
   "source": [
    "dataset.to_csv(\"game_data.csv\", index=False)\n"
   ]
  },
  {
   "cell_type": "code",
   "execution_count": null,
   "id": "1d38d5b4-45f5-4fc9-a08d-fc94a5cc8e0e",
   "metadata": {},
   "outputs": [],
   "source": []
  }
 ],
 "metadata": {
  "kernelspec": {
   "display_name": "Python 3 (ipykernel)",
   "language": "python",
   "name": "python3"
  },
  "language_info": {
   "codemirror_mode": {
    "name": "ipython",
    "version": 3
   },
   "file_extension": ".py",
   "mimetype": "text/x-python",
   "name": "python",
   "nbconvert_exporter": "python",
   "pygments_lexer": "ipython3",
   "version": "3.11.11"
  }
 },
 "nbformat": 4,
 "nbformat_minor": 5
}
